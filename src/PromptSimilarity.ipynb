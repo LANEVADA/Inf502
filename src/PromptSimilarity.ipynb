{
  "nbformat": 4,
  "nbformat_minor": 0,
  "metadata": {
    "colab": {
      "provenance": []
    },
    "kernelspec": {
      "name": "python3",
      "display_name": "Python 3"
    },
    "language_info": {
      "name": "python"
    }
  },
  "cells": [
    {
      "cell_type": "code",
      "source": [
        "from transformers import BertTokenizer, BertModel\n",
        "import torch\n",
        "import numpy as np\n",
        "from scipy.spatial.distance import cosine"
      ],
      "metadata": {
        "id": "QX2pzjtCEyIK"
      },
      "execution_count": 11,
      "outputs": []
    },
    {
      "cell_type": "code",
      "execution_count": 12,
      "metadata": {
        "id": "SucrpjoiyN_W"
      },
      "outputs": [],
      "source": [
        "prompts = ['Beautiful mountain landscape',\n",
        "'Beautiful mountain landscape with a setting sun',\n",
        "'Beautiful mountain landscape at dusk with a few stars appearing',\n",
        "'Beautiful mountain landscape under a full starry night sky']"
      ]
    },
    {
      "cell_type": "code",
      "source": [
        "subprompts = [\n",
        "    \"A beautiful mountain landscape with a bright, clear sky overhead\",\n",
        "    \"A beautiful mountain landscape, the sun beginning its descent from the peak\",\n",
        "    \"A beautiful mountain landscape, the sun inching closer to the horizon, casting longer shadows\",\n",
        "    \"A beautiful mountain landscape, the sun's rays turning a soft golden hue\",\n",
        "    \"A beautiful mountain landscape, the sun halfway set, painting the sky with warm colors\",\n",
        "    \"A beautiful mountain landscape, the sun dipping lower, the sky blushing with oranges and pinks\",\n",
        "    \"A beautiful mountain landscape, the sun barely visible, the sky a canvas of twilight hues\",\n",
        "    \"A beautiful mountain landscape, the sun almost set, the first stars twinkling faintly\",\n",
        "    \"A beautiful mountain landscape, the sun disappearing, the sky a deepening blue\",\n",
        "    \"A beautiful mountain landscape, the sun just set, the afterglow illuminating the horizon\",\n",
        "    \"A beautiful mountain landscape, the sky transitioning from dusk to night, stars becoming more visible\",\n",
        "    \"A beautiful mountain landscape, the night sky taking over, the mountain silhouetted against the stars\",\n",
        "    \"A beautiful mountain landscape under a starry night, the moon beginning to rise\",\n",
        "    \"A beautiful mountain landscape, the moon casting a gentle glow over the peaks\",\n",
        "    \"A beautiful mountain landscape at night, the moonlight illuminating the mountain's contours\",\n",
        "    \"A beautiful mountain landscape, the moon high in the sky, the air cool and still\",\n",
        "    \"A beautiful mountain landscape under the moon's soft light, the stars shining brightly\",\n",
        "    \"A beautiful mountain landscape, the moon's glow highlighting the mountain's rugged beauty\",\n",
        "    \"A beautiful mountain landscape at night, the moon casting long, dramatic shadows\",\n",
        "    \"A beautiful mountain landscape, the moon reaching its zenith, the night at its darkest\",\n",
        "    \"A beautiful mountain landscape under the moon's watchful eye, the night calm and serene\",\n",
        "    \"A beautiful mountain landscape, the moon's glow painting the mountain a silvery blue\",\n",
        "    \"A beautiful mountain landscape at night, the moon's light reflecting off the mountain's snowy peaks\",\n",
        "    \"A beautiful mountain landscape, the moon's glow creating a tranquil atmosphere\",\n",
        "    \"A beautiful mountain landscape at night, the moon's light casting a magical aura\",\n",
        "    \"A beautiful mountain landscape, the moon's glow illuminating the mountain's majestic form\",\n",
        "    \"A beautiful mountain landscape at night, the moon's light creating a peaceful ambiance\",\n",
        "    \"A beautiful mountain landscape, the moon's glow highlighting the mountain's natural beauty\",\n",
        "    \"A beautiful mountain landscape at night, the moon's light casting a serene glow\",\n",
        "    \"A beautiful mountain landscape, the moon's glow illuminating the mountain's grandeur\",\n",
        "    \"A beautiful mountain landscape at night, the moon's light creating a picturesque scene\",\n",
        "    \"A beautiful mountain landscape, the moon's glow highlighting the mountain's splendor under the starry night sky\"\n",
        "]\n"
      ],
      "metadata": {
        "id": "X8pWDvRkyY7p"
      },
      "execution_count": 13,
      "outputs": []
    },
    {
      "cell_type": "code",
      "source": [
        "tokenizer = BertTokenizer.from_pretrained('bert-base-uncased')\n",
        "model = BertModel.from_pretrained('bert-base-uncased')"
      ],
      "metadata": {
        "id": "A9YXKd3ezhSO"
      },
      "execution_count": 14,
      "outputs": []
    },
    {
      "cell_type": "code",
      "source": [
        "def get_bert_embeddings(sentence):\n",
        "    # Tokenize the sentence and get input IDs, without truncation\n",
        "    inputs = tokenizer(sentence, return_tensors='pt', padding=True, truncation=False, max_length=512)\n",
        "\n",
        "    # Check if the input exceeds the token limit and handle it\n",
        "    if inputs['input_ids'].shape[1] > 512:\n",
        "        print(f\"Warning: The sentence exceeds the maximum token limit of 512 tokens.\")\n",
        "\n",
        "    # Get the embeddings from BERT\n",
        "    with torch.no_grad():\n",
        "        outputs = model(**inputs)\n",
        "\n",
        "    # Get the last hidden state (embeddings)\n",
        "    embeddings = outputs.last_hidden_state.mean(dim=1).squeeze().numpy()\n",
        "    return embeddings\n"
      ],
      "metadata": {
        "id": "OpvQmKy5z0tx"
      },
      "execution_count": 15,
      "outputs": []
    },
    {
      "cell_type": "code",
      "source": [
        "total = 0\n",
        "for i in range(len(prompts)-1):\n",
        "  embedding1 = get_bert_embeddings(prompts[i])\n",
        "  embedding2 = get_bert_embeddings(prompts[i+1])\n",
        "  cos_sim = 1 - cosine(embedding1, embedding2)\n",
        "  print(f\"Cosine Similarity {i+1}: {cos_sim:.4f}\")\n",
        "  total += cos_sim\n",
        "\n",
        "print(f\"Avg cosine Similarity: {(total/(len(prompts)-1)):.4f}\")"
      ],
      "metadata": {
        "colab": {
          "base_uri": "https://localhost:8080/"
        },
        "id": "UBpqFiiO0O-L",
        "outputId": "f0aa9a48-3ec9-4a2d-94f9-4a883a3f501e"
      },
      "execution_count": 16,
      "outputs": [
        {
          "output_type": "stream",
          "name": "stdout",
          "text": [
            "Cosine Similarity 1: 0.8813\n",
            "Cosine Similarity 2: 0.9003\n",
            "Cosine Similarity 3: 0.8853\n",
            "Avg cosine Similarity: 0.8890\n"
          ]
        }
      ]
    },
    {
      "cell_type": "code",
      "source": [
        "total = 0\n",
        "for i in range(len(subprompts)-1):\n",
        "  embedding1 = get_bert_embeddings(subprompts[i])\n",
        "  embedding2 = get_bert_embeddings(subprompts[i+1])\n",
        "  cos_sim = 1 - cosine(embedding1, embedding2)\n",
        "  print(f\"Cosine Similarity {i+1}: {cos_sim:.4f}\")\n",
        "  total += cos_sim\n",
        "\n",
        "print(f\"Avg cosine Similarity: {(total/(len(subprompts)-1)):.4f}\")"
      ],
      "metadata": {
        "colab": {
          "base_uri": "https://localhost:8080/"
        },
        "id": "aYSBvRwR0pU1",
        "outputId": "9f012810-041f-495b-98bb-934f524c85a1"
      },
      "execution_count": 17,
      "outputs": [
        {
          "output_type": "stream",
          "name": "stdout",
          "text": [
            "Cosine Similarity 1: 0.8491\n",
            "Cosine Similarity 2: 0.8934\n",
            "Cosine Similarity 3: 0.8944\n",
            "Cosine Similarity 4: 0.9297\n",
            "Cosine Similarity 5: 0.9201\n",
            "Cosine Similarity 6: 0.8982\n",
            "Cosine Similarity 7: 0.8934\n",
            "Cosine Similarity 8: 0.9156\n",
            "Cosine Similarity 9: 0.9012\n",
            "Cosine Similarity 10: 0.8484\n",
            "Cosine Similarity 11: 0.8999\n",
            "Cosine Similarity 12: 0.8844\n",
            "Cosine Similarity 13: 0.8817\n",
            "Cosine Similarity 14: 0.9229\n",
            "Cosine Similarity 15: 0.9007\n",
            "Cosine Similarity 16: 0.9260\n",
            "Cosine Similarity 17: 0.8971\n",
            "Cosine Similarity 18: 0.8790\n",
            "Cosine Similarity 19: 0.9092\n",
            "Cosine Similarity 20: 0.9039\n",
            "Cosine Similarity 21: 0.8682\n",
            "Cosine Similarity 22: 0.9354\n",
            "Cosine Similarity 23: 0.9043\n",
            "Cosine Similarity 24: 0.9537\n",
            "Cosine Similarity 25: 0.9288\n",
            "Cosine Similarity 26: 0.9081\n",
            "Cosine Similarity 27: 0.9220\n",
            "Cosine Similarity 28: 0.9272\n",
            "Cosine Similarity 29: 0.9343\n",
            "Cosine Similarity 30: 0.9251\n",
            "Cosine Similarity 31: 0.9138\n",
            "Avg cosine Similarity: 0.9055\n"
          ]
        }
      ]
    },
    {
      "cell_type": "code",
      "source": [],
      "metadata": {
        "id": "LwRtKYN9E9dx"
      },
      "execution_count": null,
      "outputs": []
    }
  ]
}